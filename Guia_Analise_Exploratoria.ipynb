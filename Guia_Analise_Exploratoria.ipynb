{
 "cells": [
  {
   "cell_type": "raw",
   "id": "09b4a64e",
   "metadata": {},
   "source": [
    "from platform import python_version\n",
    "print('Versão da Linguagem Python Usada Neste Jupyter Notebook:', python_version())"
   ]
  },
  {
   "cell_type": "code",
   "execution_count": null,
   "id": "88afb9f3",
   "metadata": {},
   "outputs": [],
   "source": [
    "!pip install -q imdb-sqlite"
   ]
  },
  {
   "cell_type": "code",
   "execution_count": null,
   "id": "d23de578",
   "metadata": {},
   "outputs": [],
   "source": [
    "!pip install -q pycountry"
   ]
  },
  {
   "cell_type": "code",
   "execution_count": 1,
   "id": "3cb4f370",
   "metadata": {},
   "outputs": [],
   "source": [
    "import re\n",
    "import time\n",
    "import sqlite3\n",
    "import pycountry\n",
    "import numpy as np\n",
    "import pandas as pd\n",
    "import matplotlib.pyplot as plt\n",
    "import seaborn as sns\n",
    "from matplotlib import cm\n",
    "from sklearn.feature_extraction.text import CountVectorizer\n",
    "import warnings\n",
    "warnings.filterwarnings(\"ignore\")\n",
    "sns.set_theme(style = \"whitegrid\")"
   ]
  },
  {
   "cell_type": "code",
   "execution_count": null,
   "id": "3945f16b",
   "metadata": {},
   "outputs": [],
   "source": [
    "%%time\n",
    "!imdb-sqlite"
   ]
  },
  {
   "cell_type": "code",
   "execution_count": null,
   "id": "7fee3217",
   "metadata": {},
   "outputs": [],
   "source": [
    " print('hello word')"
   ]
  },
  {
   "cell_type": "code",
   "execution_count": 2,
   "id": "748844ab",
   "metadata": {},
   "outputs": [],
   "source": [
    "conn = sqlite3.connect(\"imdb.db\")"
   ]
  },
  {
   "cell_type": "code",
   "execution_count": null,
   "id": "e833ccb9",
   "metadata": {},
   "outputs": [],
   "source": [
    "tabelas = pd.read_sql_query(\"SELECT NAME AS 'Table_Name' FROM sqlite_master WHERE type = 'table'\", conn)"
   ]
  },
  {
   "cell_type": "code",
   "execution_count": null,
   "id": "c4ffddee",
   "metadata": {},
   "outputs": [],
   "source": [
    "tabelas.head()"
   ]
  },
  {
   "cell_type": "code",
   "execution_count": null,
   "id": "104b8419",
   "metadata": {},
   "outputs": [],
   "source": [
    "tabelas = tabelas[\"Table_Name\"].values.tolist()"
   ]
  },
  {
   "cell_type": "code",
   "execution_count": null,
   "id": "c742dc35",
   "metadata": {},
   "outputs": [],
   "source": [
    "for tabela in tabelas:\n",
    "    consulta = \"PRAGMA TABLE_INFO({})\".format(tabela)\n",
    "    resultado = pd.read_sql_query(consulta, conn)\n",
    "    print(\"Esquema da tabela: \", tabela)\n",
    "    display(resultado)\n",
    "    print(\"-\"* 100)\n",
    "    print(\"\\n\")"
   ]
  },
  {
   "cell_type": "markdown",
   "id": "01dccf28",
   "metadata": {},
   "source": [
    "# 1 - Quais são as categorias de Filmes mais comuns no IMDB?\n"
   ]
  },
  {
   "cell_type": "markdown",
   "id": "6b163520",
   "metadata": {},
   "source": [
    "Quais são os principais tipos(categorias) dos titulos(filmes)?"
   ]
  },
  {
   "cell_type": "code",
   "execution_count": 3,
   "id": "882c52ec",
   "metadata": {},
   "outputs": [],
   "source": [
    "#Cria a consulta SQL\n",
    "consulta1 = '''SELECT type, COUNT(*) AS COUNT FROM titles GROUP BY type'''"
   ]
  },
  {
   "cell_type": "code",
   "execution_count": 4,
   "id": "fdedc449",
   "metadata": {},
   "outputs": [],
   "source": [
    "#Extrai o resultado\n",
    "resultado1 = pd.read_sql_query(consulta1, conn)"
   ]
  },
  {
   "cell_type": "code",
   "execution_count": 5,
   "id": "d11d0ef7",
   "metadata": {},
   "outputs": [
    {
     "data": {
      "text/html": [
       "<div>\n",
       "<style scoped>\n",
       "    .dataframe tbody tr th:only-of-type {\n",
       "        vertical-align: middle;\n",
       "    }\n",
       "\n",
       "    .dataframe tbody tr th {\n",
       "        vertical-align: top;\n",
       "    }\n",
       "\n",
       "    .dataframe thead th {\n",
       "        text-align: right;\n",
       "    }\n",
       "</style>\n",
       "<table border=\"1\" class=\"dataframe\">\n",
       "  <thead>\n",
       "    <tr style=\"text-align: right;\">\n",
       "      <th></th>\n",
       "      <th>type</th>\n",
       "      <th>COUNT</th>\n",
       "    </tr>\n",
       "  </thead>\n",
       "  <tbody>\n",
       "    <tr>\n",
       "      <th>0</th>\n",
       "      <td>movie</td>\n",
       "      <td>616578</td>\n",
       "    </tr>\n",
       "    <tr>\n",
       "      <th>1</th>\n",
       "      <td>short</td>\n",
       "      <td>880891</td>\n",
       "    </tr>\n",
       "    <tr>\n",
       "      <th>2</th>\n",
       "      <td>tvEpisode</td>\n",
       "      <td>6846367</td>\n",
       "    </tr>\n",
       "    <tr>\n",
       "      <th>3</th>\n",
       "      <td>tvMiniSeries</td>\n",
       "      <td>44436</td>\n",
       "    </tr>\n",
       "    <tr>\n",
       "      <th>4</th>\n",
       "      <td>tvMovie</td>\n",
       "      <td>136894</td>\n",
       "    </tr>\n",
       "    <tr>\n",
       "      <th>5</th>\n",
       "      <td>tvPilot</td>\n",
       "      <td>2</td>\n",
       "    </tr>\n",
       "    <tr>\n",
       "      <th>6</th>\n",
       "      <td>tvSeries</td>\n",
       "      <td>228678</td>\n",
       "    </tr>\n",
       "    <tr>\n",
       "      <th>7</th>\n",
       "      <td>tvShort</td>\n",
       "      <td>10621</td>\n",
       "    </tr>\n",
       "    <tr>\n",
       "      <th>8</th>\n",
       "      <td>tvSpecial</td>\n",
       "      <td>37720</td>\n",
       "    </tr>\n",
       "    <tr>\n",
       "      <th>9</th>\n",
       "      <td>video</td>\n",
       "      <td>263322</td>\n",
       "    </tr>\n",
       "    <tr>\n",
       "      <th>10</th>\n",
       "      <td>videoGame</td>\n",
       "      <td>31679</td>\n",
       "    </tr>\n",
       "  </tbody>\n",
       "</table>\n",
       "</div>"
      ],
      "text/plain": [
       "            type    COUNT\n",
       "0          movie   616578\n",
       "1          short   880891\n",
       "2      tvEpisode  6846367\n",
       "3   tvMiniSeries    44436\n",
       "4        tvMovie   136894\n",
       "5        tvPilot        2\n",
       "6       tvSeries   228678\n",
       "7        tvShort    10621\n",
       "8      tvSpecial    37720\n",
       "9          video   263322\n",
       "10     videoGame    31679"
      ]
     },
     "metadata": {},
     "output_type": "display_data"
    }
   ],
   "source": [
    "#Visualização do resultado\n",
    "display(resultado1)"
   ]
  },
  {
   "cell_type": "code",
   "execution_count": 6,
   "id": "89321edd",
   "metadata": {},
   "outputs": [],
   "source": [
    "#Calcula o percentual para cada tipo\n",
    "resultado1['percentual'] = (resultado1['COUNT'] / resultado1['COUNT'].sum()) * 100"
   ]
  },
  {
   "cell_type": "code",
   "execution_count": 7,
   "id": "cf176124",
   "metadata": {},
   "outputs": [
    {
     "data": {
      "text/html": [
       "<div>\n",
       "<style scoped>\n",
       "    .dataframe tbody tr th:only-of-type {\n",
       "        vertical-align: middle;\n",
       "    }\n",
       "\n",
       "    .dataframe tbody tr th {\n",
       "        vertical-align: top;\n",
       "    }\n",
       "\n",
       "    .dataframe thead th {\n",
       "        text-align: right;\n",
       "    }\n",
       "</style>\n",
       "<table border=\"1\" class=\"dataframe\">\n",
       "  <thead>\n",
       "    <tr style=\"text-align: right;\">\n",
       "      <th></th>\n",
       "      <th>type</th>\n",
       "      <th>COUNT</th>\n",
       "      <th>percentual</th>\n",
       "    </tr>\n",
       "  </thead>\n",
       "  <tbody>\n",
       "    <tr>\n",
       "      <th>0</th>\n",
       "      <td>movie</td>\n",
       "      <td>616578</td>\n",
       "      <td>6.777677</td>\n",
       "    </tr>\n",
       "    <tr>\n",
       "      <th>1</th>\n",
       "      <td>short</td>\n",
       "      <td>880891</td>\n",
       "      <td>9.683113</td>\n",
       "    </tr>\n",
       "    <tr>\n",
       "      <th>2</th>\n",
       "      <td>tvEpisode</td>\n",
       "      <td>6846367</td>\n",
       "      <td>75.258058</td>\n",
       "    </tr>\n",
       "    <tr>\n",
       "      <th>3</th>\n",
       "      <td>tvMiniSeries</td>\n",
       "      <td>44436</td>\n",
       "      <td>0.488459</td>\n",
       "    </tr>\n",
       "    <tr>\n",
       "      <th>4</th>\n",
       "      <td>tvMovie</td>\n",
       "      <td>136894</td>\n",
       "      <td>1.504795</td>\n",
       "    </tr>\n",
       "    <tr>\n",
       "      <th>5</th>\n",
       "      <td>tvPilot</td>\n",
       "      <td>2</td>\n",
       "      <td>0.000022</td>\n",
       "    </tr>\n",
       "    <tr>\n",
       "      <th>6</th>\n",
       "      <td>tvSeries</td>\n",
       "      <td>228678</td>\n",
       "      <td>2.513722</td>\n",
       "    </tr>\n",
       "    <tr>\n",
       "      <th>7</th>\n",
       "      <td>tvShort</td>\n",
       "      <td>10621</td>\n",
       "      <td>0.116750</td>\n",
       "    </tr>\n",
       "    <tr>\n",
       "      <th>8</th>\n",
       "      <td>tvSpecial</td>\n",
       "      <td>37720</td>\n",
       "      <td>0.414634</td>\n",
       "    </tr>\n",
       "    <tr>\n",
       "      <th>9</th>\n",
       "      <td>video</td>\n",
       "      <td>263322</td>\n",
       "      <td>2.894543</td>\n",
       "    </tr>\n",
       "    <tr>\n",
       "      <th>10</th>\n",
       "      <td>videoGame</td>\n",
       "      <td>31679</td>\n",
       "      <td>0.348228</td>\n",
       "    </tr>\n",
       "  </tbody>\n",
       "</table>\n",
       "</div>"
      ],
      "text/plain": [
       "            type    COUNT  percentual\n",
       "0          movie   616578    6.777677\n",
       "1          short   880891    9.683113\n",
       "2      tvEpisode  6846367   75.258058\n",
       "3   tvMiniSeries    44436    0.488459\n",
       "4        tvMovie   136894    1.504795\n",
       "5        tvPilot        2    0.000022\n",
       "6       tvSeries   228678    2.513722\n",
       "7        tvShort    10621    0.116750\n",
       "8      tvSpecial    37720    0.414634\n",
       "9          video   263322    2.894543\n",
       "10     videoGame    31679    0.348228"
      ]
     },
     "metadata": {},
     "output_type": "display_data"
    }
   ],
   "source": [
    "display(resultado1)"
   ]
  },
  {
   "cell_type": "code",
   "execution_count": 8,
   "id": "495c2699",
   "metadata": {},
   "outputs": [],
   "source": [
    "#Criando gráfico com 4 categorias:\n",
    "#As 3 categorias com mais titulos e 1 categoria com todo o restante\n",
    "\n",
    "#Dicionario vazio\n",
    "others = {}\n",
    "\n",
    "#Filtra o percentual em 5% e soma o total\n",
    "others['COUNT'] = resultado1[resultado1['percentual'] < 5]['COUNT'].sum()\n",
    "\n",
    "#Gravando percentual\n",
    "others['percentual'] = resultado1[resultado1['percentual'] < 5]['percentual'].sum()\n",
    "\n",
    "#Ajusta o nome\n",
    "others['type'] = 'others'"
   ]
  },
  {
   "cell_type": "code",
   "execution_count": 9,
   "id": "811c37a3",
   "metadata": {},
   "outputs": [
    {
     "data": {
      "text/plain": [
       "{'COUNT': 753352, 'percentual': 8.281152373678548, 'type': 'others'}"
      ]
     },
     "execution_count": 9,
     "metadata": {},
     "output_type": "execute_result"
    }
   ],
   "source": [
    "others"
   ]
  },
  {
   "cell_type": "code",
   "execution_count": 10,
   "id": "5f68c220",
   "metadata": {},
   "outputs": [
    {
     "data": {
      "text/html": [
       "<div>\n",
       "<style scoped>\n",
       "    .dataframe tbody tr th:only-of-type {\n",
       "        vertical-align: middle;\n",
       "    }\n",
       "\n",
       "    .dataframe tbody tr th {\n",
       "        vertical-align: top;\n",
       "    }\n",
       "\n",
       "    .dataframe thead th {\n",
       "        text-align: right;\n",
       "    }\n",
       "</style>\n",
       "<table border=\"1\" class=\"dataframe\">\n",
       "  <thead>\n",
       "    <tr style=\"text-align: right;\">\n",
       "      <th></th>\n",
       "      <th>type</th>\n",
       "      <th>COUNT</th>\n",
       "      <th>percentual</th>\n",
       "    </tr>\n",
       "  </thead>\n",
       "  <tbody>\n",
       "    <tr>\n",
       "      <th>0</th>\n",
       "      <td>movie</td>\n",
       "      <td>616578</td>\n",
       "      <td>6.777677</td>\n",
       "    </tr>\n",
       "    <tr>\n",
       "      <th>1</th>\n",
       "      <td>short</td>\n",
       "      <td>880891</td>\n",
       "      <td>9.683113</td>\n",
       "    </tr>\n",
       "    <tr>\n",
       "      <th>2</th>\n",
       "      <td>tvEpisode</td>\n",
       "      <td>6846367</td>\n",
       "      <td>75.258058</td>\n",
       "    </tr>\n",
       "    <tr>\n",
       "      <th>3</th>\n",
       "      <td>tvMiniSeries</td>\n",
       "      <td>44436</td>\n",
       "      <td>0.488459</td>\n",
       "    </tr>\n",
       "    <tr>\n",
       "      <th>4</th>\n",
       "      <td>tvMovie</td>\n",
       "      <td>136894</td>\n",
       "      <td>1.504795</td>\n",
       "    </tr>\n",
       "    <tr>\n",
       "      <th>5</th>\n",
       "      <td>tvPilot</td>\n",
       "      <td>2</td>\n",
       "      <td>0.000022</td>\n",
       "    </tr>\n",
       "    <tr>\n",
       "      <th>6</th>\n",
       "      <td>tvSeries</td>\n",
       "      <td>228678</td>\n",
       "      <td>2.513722</td>\n",
       "    </tr>\n",
       "    <tr>\n",
       "      <th>7</th>\n",
       "      <td>tvShort</td>\n",
       "      <td>10621</td>\n",
       "      <td>0.116750</td>\n",
       "    </tr>\n",
       "    <tr>\n",
       "      <th>8</th>\n",
       "      <td>tvSpecial</td>\n",
       "      <td>37720</td>\n",
       "      <td>0.414634</td>\n",
       "    </tr>\n",
       "    <tr>\n",
       "      <th>9</th>\n",
       "      <td>video</td>\n",
       "      <td>263322</td>\n",
       "      <td>2.894543</td>\n",
       "    </tr>\n",
       "    <tr>\n",
       "      <th>10</th>\n",
       "      <td>videoGame</td>\n",
       "      <td>31679</td>\n",
       "      <td>0.348228</td>\n",
       "    </tr>\n",
       "  </tbody>\n",
       "</table>\n",
       "</div>"
      ],
      "text/plain": [
       "            type    COUNT  percentual\n",
       "0          movie   616578    6.777677\n",
       "1          short   880891    9.683113\n",
       "2      tvEpisode  6846367   75.258058\n",
       "3   tvMiniSeries    44436    0.488459\n",
       "4        tvMovie   136894    1.504795\n",
       "5        tvPilot        2    0.000022\n",
       "6       tvSeries   228678    2.513722\n",
       "7        tvShort    10621    0.116750\n",
       "8      tvSpecial    37720    0.414634\n",
       "9          video   263322    2.894543\n",
       "10     videoGame    31679    0.348228"
      ]
     },
     "metadata": {},
     "output_type": "display_data"
    }
   ],
   "source": [
    "display(resultado1)"
   ]
  },
  {
   "cell_type": "code",
   "execution_count": 11,
   "id": "b35b35d0",
   "metadata": {},
   "outputs": [],
   "source": [
    "#Filtra o dataframe de resultado\n",
    "resultado1 = resultado1[resultado1['percentual'] > 5]"
   ]
  },
  {
   "cell_type": "code",
   "execution_count": 12,
   "id": "a5b2f509",
   "metadata": {},
   "outputs": [],
   "source": [
    "#Append com o dataframe de resultado\n",
    "resultado1 = resultado1.append(others, ignore_index = True)"
   ]
  },
  {
   "cell_type": "code",
   "execution_count": 13,
   "id": "99c97af2",
   "metadata": {},
   "outputs": [],
   "source": [
    "#Ordena o resultado\n",
    "resultado1 = resultado1.sort_values(by = 'COUNT', ascending = False)\n"
   ]
  },
  {
   "cell_type": "code",
   "execution_count": 14,
   "id": "06fe91f6",
   "metadata": {},
   "outputs": [
    {
     "data": {
      "text/html": [
       "<div>\n",
       "<style scoped>\n",
       "    .dataframe tbody tr th:only-of-type {\n",
       "        vertical-align: middle;\n",
       "    }\n",
       "\n",
       "    .dataframe tbody tr th {\n",
       "        vertical-align: top;\n",
       "    }\n",
       "\n",
       "    .dataframe thead th {\n",
       "        text-align: right;\n",
       "    }\n",
       "</style>\n",
       "<table border=\"1\" class=\"dataframe\">\n",
       "  <thead>\n",
       "    <tr style=\"text-align: right;\">\n",
       "      <th></th>\n",
       "      <th>type</th>\n",
       "      <th>COUNT</th>\n",
       "      <th>percentual</th>\n",
       "    </tr>\n",
       "  </thead>\n",
       "  <tbody>\n",
       "    <tr>\n",
       "      <th>2</th>\n",
       "      <td>tvEpisode</td>\n",
       "      <td>6846367</td>\n",
       "      <td>75.258058</td>\n",
       "    </tr>\n",
       "    <tr>\n",
       "      <th>1</th>\n",
       "      <td>short</td>\n",
       "      <td>880891</td>\n",
       "      <td>9.683113</td>\n",
       "    </tr>\n",
       "    <tr>\n",
       "      <th>3</th>\n",
       "      <td>others</td>\n",
       "      <td>753352</td>\n",
       "      <td>8.281152</td>\n",
       "    </tr>\n",
       "    <tr>\n",
       "      <th>0</th>\n",
       "      <td>movie</td>\n",
       "      <td>616578</td>\n",
       "      <td>6.777677</td>\n",
       "    </tr>\n",
       "  </tbody>\n",
       "</table>\n",
       "</div>"
      ],
      "text/plain": [
       "        type    COUNT  percentual\n",
       "2  tvEpisode  6846367   75.258058\n",
       "1      short   880891    9.683113\n",
       "3     others   753352    8.281152\n",
       "0      movie   616578    6.777677"
      ]
     },
     "execution_count": 14,
     "metadata": {},
     "output_type": "execute_result"
    }
   ],
   "source": [
    "#Visualização\n",
    "resultado1.head()"
   ]
  },
  {
   "cell_type": "code",
   "execution_count": 15,
   "id": "bdecc2f4",
   "metadata": {},
   "outputs": [],
   "source": [
    "#Ajusta os labels\n",
    "labels = [str(resultado1['type'][i])+' '+'['+str(round(resultado1['percentual'][i], 2)) +'%'+']'for i in resultado1.index]"
   ]
  },
  {
   "cell_type": "code",
   "execution_count": 16,
   "id": "ee40f91b",
   "metadata": {},
   "outputs": [
    {
     "data": {
      "image/png": "[encoded data removed]",
      "text/plain": [
       "<Figure size 432x288 with 1 Axes>"
      ]
     },
     "metadata": {},
     "output_type": "display_data"
    }
   ],
   "source": [
    "#Plot\n",
    "\n",
    "#Mapa de cores\n",
    "cs = cm.Set3(np.arange(100))\n",
    "\n",
    "#Cria a figura\n",
    "f = plt.figure()\n",
    "\n",
    "#Pie Plot\n",
    "plt.pie(resultado1['COUNT'],labeldistance = 1, radius = 3, colors = cs, wedgeprops = dict(width = 0.8))\n",
    "plt.legend(labels = labels, loc = 'center', prop = {'size': 12})\n",
    "plt.title('Distribuição de Tittulos', loc = 'Center', fontdict = {'fontsize':20, 'fontweight':20})\n",
    "plt.show()"
   ]
  },
  {
   "cell_type": "markdown",
   "id": "04bd755f",
   "metadata": {},
   "source": [
    "# 2 - Qual número de titulos por Gênero ?\n"
   ]
  },
  {
   "cell_type": "markdown",
   "id": "18d4d886",
   "metadata": {},
   "source": [
    "Vamos calcular o numero de filmes por genero e entregar o resultado em valor percentual"
   ]
  },
  {
   "cell_type": "code",
   "execution_count": 17,
   "id": "bf528722",
   "metadata": {},
   "outputs": [],
   "source": [
    "consulta2 = '''SELECT genres, COUNT(*) FROM titles WHERE type = 'movie' GROUP BY genres'''"
   ]
  },
  {
   "cell_type": "code",
   "execution_count": 18,
   "id": "2e155097",
   "metadata": {},
   "outputs": [],
   "source": [
    "resultado2 = pd.read_sql_query(consulta2, conn)"
   ]
  },
  {
   "cell_type": "code",
   "execution_count": 19,
   "id": "d4576d40",
   "metadata": {},
   "outputs": [
    {
     "data": {
      "text/html": [
       "<div>\n",
       "<style scoped>\n",
       "    .dataframe tbody tr th:only-of-type {\n",
       "        vertical-align: middle;\n",
       "    }\n",
       "\n",
       "    .dataframe tbody tr th {\n",
       "        vertical-align: top;\n",
       "    }\n",
       "\n",
       "    .dataframe thead th {\n",
       "        text-align: right;\n",
       "    }\n",
       "</style>\n",
       "<table border=\"1\" class=\"dataframe\">\n",
       "  <thead>\n",
       "    <tr style=\"text-align: right;\">\n",
       "      <th></th>\n",
       "      <th>genres</th>\n",
       "      <th>COUNT(*)</th>\n",
       "    </tr>\n",
       "  </thead>\n",
       "  <tbody>\n",
       "    <tr>\n",
       "      <th>0</th>\n",
       "      <td>Action</td>\n",
       "      <td>14119</td>\n",
       "    </tr>\n",
       "    <tr>\n",
       "      <th>1</th>\n",
       "      <td>Action,Adult</td>\n",
       "      <td>11</td>\n",
       "    </tr>\n",
       "    <tr>\n",
       "      <th>2</th>\n",
       "      <td>Action,Adult,Adventure</td>\n",
       "      <td>2</td>\n",
       "    </tr>\n",
       "    <tr>\n",
       "      <th>3</th>\n",
       "      <td>Action,Adult,Comedy</td>\n",
       "      <td>6</td>\n",
       "    </tr>\n",
       "    <tr>\n",
       "      <th>4</th>\n",
       "      <td>Action,Adult,Crime</td>\n",
       "      <td>10</td>\n",
       "    </tr>\n",
       "    <tr>\n",
       "      <th>...</th>\n",
       "      <td>...</td>\n",
       "      <td>...</td>\n",
       "    </tr>\n",
       "    <tr>\n",
       "      <th>1463</th>\n",
       "      <td>Thriller,Western</td>\n",
       "      <td>43</td>\n",
       "    </tr>\n",
       "    <tr>\n",
       "      <th>1464</th>\n",
       "      <td>War</td>\n",
       "      <td>1307</td>\n",
       "    </tr>\n",
       "    <tr>\n",
       "      <th>1465</th>\n",
       "      <td>War,Western</td>\n",
       "      <td>14</td>\n",
       "    </tr>\n",
       "    <tr>\n",
       "      <th>1466</th>\n",
       "      <td>Western</td>\n",
       "      <td>5095</td>\n",
       "    </tr>\n",
       "    <tr>\n",
       "      <th>1467</th>\n",
       "      <td>\\N</td>\n",
       "      <td>71657</td>\n",
       "    </tr>\n",
       "  </tbody>\n",
       "</table>\n",
       "<p>1468 rows × 2 columns</p>\n",
       "</div>"
      ],
      "text/plain": [
       "                      genres  COUNT(*)\n",
       "0                     Action     14119\n",
       "1               Action,Adult        11\n",
       "2     Action,Adult,Adventure         2\n",
       "3        Action,Adult,Comedy         6\n",
       "4         Action,Adult,Crime        10\n",
       "...                      ...       ...\n",
       "1463        Thriller,Western        43\n",
       "1464                     War      1307\n",
       "1465             War,Western        14\n",
       "1466                 Western      5095\n",
       "1467                      \\N     71657\n",
       "\n",
       "[1468 rows x 2 columns]"
      ]
     },
     "metadata": {},
     "output_type": "display_data"
    }
   ],
   "source": [
    "display(resultado2)"
   ]
  },
  {
   "cell_type": "code",
   "execution_count": 20,
   "id": "708d65d4",
   "metadata": {},
   "outputs": [],
   "source": [
    "resultado2['genres'] = resultado2['genres'].str.lower().values"
   ]
  },
  {
   "cell_type": "code",
   "execution_count": 21,
   "id": "58a8c09d",
   "metadata": {},
   "outputs": [],
   "source": [
    "temp = resultado2['genres'].dropna()"
   ]
  },
  {
   "cell_type": "code",
   "execution_count": 22,
   "id": "75a763d1",
   "metadata": {},
   "outputs": [
    {
     "data": {
      "text/html": [
       "<div>\n",
       "<style scoped>\n",
       "    .dataframe tbody tr th:only-of-type {\n",
       "        vertical-align: middle;\n",
       "    }\n",
       "\n",
       "    .dataframe tbody tr th {\n",
       "        vertical-align: top;\n",
       "    }\n",
       "\n",
       "    .dataframe thead th {\n",
       "        text-align: right;\n",
       "    }\n",
       "</style>\n",
       "<table border=\"1\" class=\"dataframe\">\n",
       "  <thead>\n",
       "    <tr style=\"text-align: right;\">\n",
       "      <th></th>\n",
       "      <th>genres</th>\n",
       "      <th>COUNT(*)</th>\n",
       "    </tr>\n",
       "  </thead>\n",
       "  <tbody>\n",
       "    <tr>\n",
       "      <th>0</th>\n",
       "      <td>action</td>\n",
       "      <td>14119</td>\n",
       "    </tr>\n",
       "    <tr>\n",
       "      <th>1</th>\n",
       "      <td>action,adult</td>\n",
       "      <td>11</td>\n",
       "    </tr>\n",
       "    <tr>\n",
       "      <th>2</th>\n",
       "      <td>action,adult,adventure</td>\n",
       "      <td>2</td>\n",
       "    </tr>\n",
       "    <tr>\n",
       "      <th>3</th>\n",
       "      <td>action,adult,comedy</td>\n",
       "      <td>6</td>\n",
       "    </tr>\n",
       "    <tr>\n",
       "      <th>4</th>\n",
       "      <td>action,adult,crime</td>\n",
       "      <td>10</td>\n",
       "    </tr>\n",
       "    <tr>\n",
       "      <th>...</th>\n",
       "      <td>...</td>\n",
       "      <td>...</td>\n",
       "    </tr>\n",
       "    <tr>\n",
       "      <th>1463</th>\n",
       "      <td>thriller,western</td>\n",
       "      <td>43</td>\n",
       "    </tr>\n",
       "    <tr>\n",
       "      <th>1464</th>\n",
       "      <td>war</td>\n",
       "      <td>1307</td>\n",
       "    </tr>\n",
       "    <tr>\n",
       "      <th>1465</th>\n",
       "      <td>war,western</td>\n",
       "      <td>14</td>\n",
       "    </tr>\n",
       "    <tr>\n",
       "      <th>1466</th>\n",
       "      <td>western</td>\n",
       "      <td>5095</td>\n",
       "    </tr>\n",
       "    <tr>\n",
       "      <th>1467</th>\n",
       "      <td>\\n</td>\n",
       "      <td>71657</td>\n",
       "    </tr>\n",
       "  </tbody>\n",
       "</table>\n",
       "<p>1468 rows × 2 columns</p>\n",
       "</div>"
      ],
      "text/plain": [
       "                      genres  COUNT(*)\n",
       "0                     action     14119\n",
       "1               action,adult        11\n",
       "2     action,adult,adventure         2\n",
       "3        action,adult,comedy         6\n",
       "4         action,adult,crime        10\n",
       "...                      ...       ...\n",
       "1463        thriller,western        43\n",
       "1464                     war      1307\n",
       "1465             war,western        14\n",
       "1466                 western      5095\n",
       "1467                      \\n     71657\n",
       "\n",
       "[1468 rows x 2 columns]"
      ]
     },
     "metadata": {},
     "output_type": "display_data"
    }
   ],
   "source": [
    "display(resultado2)"
   ]
  },
  {
   "cell_type": "code",
   "execution_count": 23,
   "id": "eef773c8",
   "metadata": {},
   "outputs": [],
   "source": [
    "padrao = '(?u)\\\\b[\\\\w-]+\\\\b'"
   ]
  },
  {
   "cell_type": "code",
   "execution_count": 24,
   "id": "c9cc20a4",
   "metadata": {},
   "outputs": [],
   "source": [
    "vetor = CountVectorizer(token_pattern = padrao, analyzer = 'word').fit(temp)"
   ]
  },
  {
   "cell_type": "code",
   "execution_count": 25,
   "id": "06ee2ea0",
   "metadata": {},
   "outputs": [
    {
     "data": {
      "text/plain": [
       "sklearn.feature_extraction.text.CountVectorizer"
      ]
     },
     "execution_count": 25,
     "metadata": {},
     "output_type": "execute_result"
    }
   ],
   "source": [
    "type(vetor)"
   ]
  },
  {
   "cell_type": "code",
   "execution_count": 26,
   "id": "da618e30",
   "metadata": {},
   "outputs": [],
   "source": [
    "bag_generos = vetor.transform(temp)"
   ]
  },
  {
   "cell_type": "code",
   "execution_count": 27,
   "id": "edd339d6",
   "metadata": {},
   "outputs": [],
   "source": [
    "generos_unicos = vetor.get_feature_names()"
   ]
  },
  {
   "cell_type": "code",
   "execution_count": 28,
   "id": "f35da2c6",
   "metadata": {},
   "outputs": [],
   "source": [
    "generos = pd.DataFrame(bag_generos.todense(), columns = generos_unicos, index = temp.index)"
   ]
  },
  {
   "cell_type": "code",
   "execution_count": 29,
   "id": "8c22ab60",
   "metadata": {},
   "outputs": [
    {
     "name": "stdout",
     "output_type": "stream",
     "text": [
      "<class 'pandas.core.frame.DataFrame'>\n",
      "Int64Index: 1468 entries, 0 to 1467\n",
      "Data columns (total 29 columns):\n",
      " #   Column       Non-Null Count  Dtype\n",
      "---  ------       --------------  -----\n",
      " 0   action       1468 non-null   int64\n",
      " 1   adult        1468 non-null   int64\n",
      " 2   adventure    1468 non-null   int64\n",
      " 3   animation    1468 non-null   int64\n",
      " 4   biography    1468 non-null   int64\n",
      " 5   comedy       1468 non-null   int64\n",
      " 6   crime        1468 non-null   int64\n",
      " 7   documentary  1468 non-null   int64\n",
      " 8   drama        1468 non-null   int64\n",
      " 9   family       1468 non-null   int64\n",
      " 10  fantasy      1468 non-null   int64\n",
      " 11  film-noir    1468 non-null   int64\n",
      " 12  game-show    1468 non-null   int64\n",
      " 13  history      1468 non-null   int64\n",
      " 14  horror       1468 non-null   int64\n",
      " 15  music        1468 non-null   int64\n",
      " 16  musical      1468 non-null   int64\n",
      " 17  mystery      1468 non-null   int64\n",
      " 18  n            1468 non-null   int64\n",
      " 19  news         1468 non-null   int64\n",
      " 20  reality-tv   1468 non-null   int64\n",
      " 21  romance      1468 non-null   int64\n",
      " 22  sci-fi       1468 non-null   int64\n",
      " 23  short        1468 non-null   int64\n",
      " 24  sport        1468 non-null   int64\n",
      " 25  talk-show    1468 non-null   int64\n",
      " 26  thriller     1468 non-null   int64\n",
      " 27  war          1468 non-null   int64\n",
      " 28  western      1468 non-null   int64\n",
      "dtypes: int64(29)\n",
      "memory usage: 344.1 KB\n"
     ]
    }
   ],
   "source": [
    "generos.info()"
   ]
  },
  {
   "cell_type": "code",
   "execution_count": 30,
   "id": "078f69e2",
   "metadata": {},
   "outputs": [],
   "source": [
    "generos = generos.drop(columns = 'n', axis = 0)"
   ]
  },
  {
   "cell_type": "code",
   "execution_count": 31,
   "id": "b7855f1a",
   "metadata": {},
   "outputs": [],
   "source": [
    "generos_percentual = 100 * pd.Series(generos.sum()).sort_values(ascending = False) / generos.shape[0]\n"
   ]
  },
  {
   "cell_type": "code",
   "execution_count": 32,
   "id": "a1d86446",
   "metadata": {},
   "outputs": [
    {
     "data": {
      "text/plain": [
       "drama          17.915531\n",
       "comedy         16.961853\n",
       "documentary    15.803815\n",
       "adventure      14.918256\n",
       "action         14.509537\n",
       "romance        13.283379\n",
       "crime          13.010899\n",
       "mystery        12.397820\n",
       "thriller       12.261580\n",
       "horror         12.193460\n",
       "dtype: float64"
      ]
     },
     "execution_count": 32,
     "metadata": {},
     "output_type": "execute_result"
    }
   ],
   "source": [
    "generos_percentual.head(10)"
   ]
  },
  {
   "cell_type": "code",
   "execution_count": 33,
   "id": "202e0859",
   "metadata": {
    "scrolled": false
   },
   "outputs": [
    {
     "data": {
      "image/png": "[encoded data removed]",
      "text/plain": [
       "<Figure size 1152x576 with 1 Axes>"
      ]
     },
     "metadata": {},
     "output_type": "display_data"
    }
   ],
   "source": [
    "plt.figure(figsize = (16,8))\n",
    "sns.barplot(x = generos_percentual.values, y = generos_percentual.index, orient = \"h\", palette = \"terrain\")\n",
    "plt.ylabel = ('Gênero')             \n",
    "plt.xlabel = (\"\\nPercentual de Filmes (%)\")\n",
    "plt.title = ('\\nNúmero (Percentual) de Títulos Por Gênero\\n')\n",
    "plt.show()"
   ]
  }
 ],
 "metadata": {
  "kernelspec": {
   "display_name": "Python 3 (ipykernel)",
   "language": "python",
   "name": "python3"
  },
  "language_info": {
   "codemirror_mode": {
    "name": "ipython",
    "version": 3
   },
   "file_extension": ".py",
   "mimetype": "text/x-python",
   "name": "python",
   "nbconvert_exporter": "python",
   "pygments_lexer": "ipython3",
   "version": "3.9.12"
  }
 },
 "nbformat": 4,
 "nbformat_minor": 5
}
